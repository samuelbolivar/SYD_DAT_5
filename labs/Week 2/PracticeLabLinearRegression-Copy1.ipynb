{
 "cells": [
  {
   "cell_type": "code",
   "execution_count": 1,
   "metadata": {
    "collapsed": true
   },
   "outputs": [],
   "source": [
    "import sklearn.linear_model"
   ]
  },
  {
   "cell_type": "code",
   "execution_count": 2,
   "metadata": {
    "collapsed": true
   },
   "outputs": [],
   "source": [
    "%matplotlib inline\n",
    "import pandas\n",
    "import matplotlib.pyplot"
   ]
  },
  {
   "cell_type": "code",
   "execution_count": 3,
   "metadata": {
    "collapsed": false
   },
   "outputs": [],
   "source": [
    "trains = pandas.read_csv('../../data/sydtrains.csv', thousands='.', index_col='STATION')"
   ]
  },
  {
   "cell_type": "code",
   "execution_count": 4,
   "metadata": {
    "collapsed": true
   },
   "outputs": [],
   "source": [
    "trains2014 = trains[trains.YEAR == 2014]"
   ]
  },
  {
   "cell_type": "code",
   "execution_count": 5,
   "metadata": {
    "collapsed": false
   },
   "outputs": [
    {
     "data": {
      "text/plain": [
       "Index([u'LINE', u'YEAR', u'SURVEY_DATE_USED', u'WHETHER_SURVEYED',\n",
       "       u'IN_0200_0600', u'OUT_0200_0600', u'IN_0600_0930', u'OUT_0600_0930',\n",
       "       u'IN_0930_1500', u'OUT_0930_1500', u'IN_1500_1830', u'OUT_1500_1830',\n",
       "       u'IN_1830_0200', u'OUT_1830_0200', u'IN_24_HOURS', u'OUT_24_HOURS',\n",
       "       u'RANK', u'STATION_SORT_ID'],\n",
       "      dtype='object')"
      ]
     },
     "execution_count": 5,
     "metadata": {},
     "output_type": "execute_result"
    }
   ],
   "source": [
    "trains2014.columns"
   ]
  },
  {
   "cell_type": "raw",
   "metadata": {},
   "source": []
  },
  {
   "cell_type": "code",
   "execution_count": 6,
   "metadata": {
    "collapsed": false
   },
   "outputs": [],
   "source": [
    "scatter_data_in = trains2014.loc[:, [\"IN_1500_1830\" , \"IN_1830_0200\",  \"OUT_0600_0930\"]]"
   ]
  },
  {
   "cell_type": "code",
   "execution_count": 16,
   "metadata": {
    "collapsed": false
   },
   "outputs": [
    {
     "data": {
      "text/plain": [
       "array([[<matplotlib.axes._subplots.AxesSubplot object at 0x11527f790>,\n",
       "        <matplotlib.axes._subplots.AxesSubplot object at 0x1152f53d0>,\n",
       "        <matplotlib.axes._subplots.AxesSubplot object at 0x117811c50>],\n",
       "       [<matplotlib.axes._subplots.AxesSubplot object at 0x117893e10>,\n",
       "        <matplotlib.axes._subplots.AxesSubplot object at 0x1178f8b10>,\n",
       "        <matplotlib.axes._subplots.AxesSubplot object at 0x117978f90>],\n",
       "       [<matplotlib.axes._subplots.AxesSubplot object at 0x117930450>,\n",
       "        <matplotlib.axes._subplots.AxesSubplot object at 0x117ba1ad0>,\n",
       "        <matplotlib.axes._subplots.AxesSubplot object at 0x117c23d90>]], dtype=object)"
      ]
     },
     "execution_count": 16,
     "metadata": {},
     "output_type": "execute_result"
    },
    {
     "data": {
      "image/png": "[encoded data removed]",
      "text/plain": [
       "<matplotlib.figure.Figure at 0x1148048d0>"
      ]
     },
     "metadata": {},
     "output_type": "display_data"
    }
   ],
   "source": [
    "pandas.scatter_matrix(scatter_data_in)"
   ]
  },
  {
   "cell_type": "code",
   "execution_count": 7,
   "metadata": {
    "collapsed": false
   },
   "outputs": [],
   "source": [
    "people_in_the_am = trains2014.loc[:, [\"OUT_0600_0930\", \"OUT_0930_1500\"]]"
   ]
  },
  {
   "cell_type": "code",
   "execution_count": 8,
   "metadata": {
    "collapsed": true
   },
   "outputs": [],
   "source": [
    "people_in_the_pm = trains2014.IN_1500_1830"
   ]
  },
  {
   "cell_type": "code",
   "execution_count": 27,
   "metadata": {
    "collapsed": true
   },
   "outputs": [],
   "source": [
    "regressor = sklearn.linear_model.RANSACRegressor(max_trials=10000)"
   ]
  },
  {
   "cell_type": "code",
   "execution_count": 28,
   "metadata": {
    "collapsed": false
   },
   "outputs": [
    {
     "data": {
      "text/plain": [
       "RANSACRegressor(base_estimator=None, is_data_valid=None, is_model_valid=None,\n",
       "        max_trials=10000, min_samples=None, random_state=None,\n",
       "        residual_metric=None, residual_threshold=None, stop_n_inliers=inf,\n",
       "        stop_probability=0.99, stop_score=inf)"
      ]
     },
     "execution_count": 28,
     "metadata": {},
     "output_type": "execute_result"
    }
   ],
   "source": [
    "regressor.fit(people_in_the_am, people_in_the_pm)"
   ]
  },
  {
   "cell_type": "code",
   "execution_count": 29,
   "metadata": {
    "collapsed": true
   },
   "outputs": [],
   "source": [
    "predictions_for_pm = regressor.predict(people_in_the_am)"
   ]
  },
  {
   "cell_type": "code",
   "execution_count": 30,
   "metadata": {
    "collapsed": false
   },
   "outputs": [
    {
     "data": {
      "text/plain": [
       "array([  4.47354337e+04,   4.41014343e+04,   3.78455151e+04,\n",
       "         1.38727565e+04,   1.76228708e+04,   1.14953768e+04,\n",
       "         8.48543756e+03,   4.99633092e+03,   4.56906065e+03,\n",
       "         9.41520927e+03,   1.34633849e+04,   2.98919679e+03,\n",
       "         8.70164943e+03,   3.84285513e+03,   3.50824811e+03,\n",
       "         4.04692102e+03,   2.59674095e+03,   2.33319446e+03,\n",
       "         3.20761476e+03,   1.98558413e+03,   2.30777045e+03,\n",
       "         6.15054798e+03,   1.79835113e+03,   3.83208278e+03,\n",
       "         5.74292419e+03,   1.23228967e+03,   1.65071068e+03,\n",
       "         2.24332822e+03,   2.57323173e+03,   1.70460555e+03,\n",
       "         1.74997564e+03,   2.58842456e+03,   1.82544837e+03,\n",
       "         1.03233636e+03,   2.02843194e+03,   3.43240946e+03,\n",
       "         1.18388101e+03,   2.21509062e+03,   1.52208434e+03,\n",
       "         1.06414540e+03,   1.24083933e+03,   2.37105575e+03,\n",
       "         1.87220037e+03,   1.30029505e+03,   1.27845077e+03,\n",
       "         1.09980059e+03,   2.77479193e+03,   1.18055114e+03,\n",
       "         1.76044838e+03,   9.80622713e+02,   8.93495430e+02,\n",
       "         1.11832329e+03,   8.65832159e+02,   6.51793225e+02,\n",
       "         8.57831947e+02,   9.47972923e+02,   7.67666100e+02,\n",
       "         3.74427536e+02,   4.87811297e+02,   4.91124589e+02,\n",
       "         4.61812963e+02,   2.23416277e+03,   6.76409640e+02,\n",
       "         7.57717934e+02,   2.00130154e+03,   1.09232495e+03,\n",
       "         7.31161857e+02,   9.32497078e+02,   4.30836400e+02,\n",
       "         1.06273031e+03,   5.66896913e+02,   4.99973851e+02,\n",
       "         2.90630128e+02,   8.04994519e+02,   8.89349671e+02,\n",
       "         7.98909097e+02,   7.97252451e+02,   2.37251539e+02,\n",
       "         8.75796906e+02,   5.47258726e+02,   7.62679581e+02,\n",
       "         4.65683997e+02,   8.26006335e+02,   7.35582343e+02,\n",
       "         8.97632899e+02,   3.59209836e+02,   1.27373897e+03,\n",
       "         4.73143048e+02,   4.29179754e+02,   2.55782531e+02,\n",
       "         4.45496358e+02,   2.84544705e+02,   4.55444524e+02,\n",
       "         5.33714253e+02,   4.89742669e+02,   3.97095998e+02,\n",
       "         5.26238620e+02,   2.45551349e+02,   2.45551349e+02,\n",
       "         1.96601537e+02,   4.91116298e+02,   3.21323673e+02,\n",
       "         2.92012047e+02,   2.35869619e+02,   6.24962422e+02,\n",
       "         4.98034188e+02,   5.22092860e+02,   3.13856331e+02,\n",
       "         7.31161857e+02,   2.46933269e+02,   2.61867953e+02,\n",
       "         2.89797659e+02,   3.56720721e+02,   5.01347480e+02,\n",
       "         2.40023669e+02,   2.19278289e+02,   3.12199686e+02,\n",
       "         4.86970538e+02,   4.08434374e+02,   6.09478286e+02,\n",
       "         2.90904853e+02,   3.53956882e+02,   3.94881609e+02,\n",
       "         1.88859469e+02,   2.19278289e+02,   7.49135107e+02,\n",
       "         1.88859469e+02,   5.07707628e+02,   2.40290104e+02,\n",
       "         3.21598399e+02,   2.49422383e+02,   4.08717390e+02,\n",
       "         9.47681615e+02,   4.98025897e+02,   3.39846375e+02,\n",
       "         6.15830143e+02,   1.56500986e+02,   5.49464824e+02,\n",
       "         4.60139735e+02,   2.66288439e+02,   4.76456339e+02,\n",
       "         6.19975903e+02,   2.17063901e+02,   1.03680140e+02,\n",
       "         1.48758918e+02,   2.10429027e+02,   3.43167957e+02,\n",
       "         1.76688624e+02,   1.55393792e+02,   3.52566671e+02,\n",
       "         1.65350248e+02,   2.66563165e+02,   3.45099329e+02,\n",
       "         4.59590283e+02,   8.21105819e+01,   1.02298220e+02,\n",
       "         1.44055416e+02,   2.24531243e+02,   1.59264826e+02,\n",
       "         3.28791015e+02,   5.21535118e+02,   7.10469316e+01,\n",
       "         1.81941578e+02,   1.56775712e+02,   1.60097294e+02,\n",
       "         2.41122573e+02,   8.10033878e+01,   1.63135860e+02,\n",
       "         3.45426894e+01,   2.30333648e+02,   3.95209175e+01,\n",
       "         2.83154494e+02,   2.49139366e+02,   1.83048772e+02,\n",
       "         7.35360456e+01,   2.95644613e+01,   1.26631618e+02,\n",
       "         3.00853019e+02,   1.00916300e+02,   1.60372020e+02,\n",
       "         1.29120732e+02,   9.62127978e+01,   1.79727190e+02,\n",
       "         4.58810654e+01,   4.09028374e+01,   1.02572946e+02,\n",
       "         5.19664876e+01,   9.62127978e+01,   4.58810654e+01,\n",
       "         1.84705418e+02,   4.58810654e+01,   9.48308779e+01,\n",
       "         1.05062060e+02,   5.97085555e+01,   3.70318034e+01,\n",
       "         6.33048637e+01,   1.14186048e+02,   5.97085555e+01,\n",
       "         8.76382616e+01,   9.89766376e+01,   2.45862332e+01,\n",
       "         9.12345697e+01,   4.58810654e+01,   7.98961936e+01,\n",
       "         3.70318034e+01,   4.09028374e+01,   6.85578176e+01,\n",
       "         1.54561324e+02,   3.95209175e+01,   2.56934274e+01,\n",
       "         1.05336786e+02,   7.10469316e+01,   6.08157497e+01,\n",
       "         5.58375216e+01,   6.35795895e+01,   5.97085555e+01,\n",
       "         2.32043133e+01,   1.06718706e+02,   5.47303275e+01,\n",
       "         2.95644613e+01,   1.31884572e+02,   4.58810654e+01,\n",
       "         6.10904755e+01,   4.09028374e+01,   5.61122474e+01,\n",
       "         2.07151993e+01,   1.57369712e+01,   2.07151993e+01,\n",
       "         1.32478572e+01,   1.68441653e+01,   3.95209175e+01,\n",
       "         3.45426894e+01,   1.82260852e+01,   5.86013614e+01,\n",
       "         1.32478572e+01,   9.37682321e+00,   6.88770918e+00,\n",
       "         9.37682321e+00,   4.22847573e+01,   2.70753473e+01,\n",
       "         1.57369712e+01,   6.88770918e+00,   1.57369712e+01,\n",
       "         5.61122474e+01,   1.32478572e+01,   5.36231334e+01,\n",
       "         4.39859514e+00,   2.45862332e+01,   6.63434293e+01,\n",
       "         1.57369712e+01,   2.07151993e+01,   1.57369712e+01,\n",
       "         1.90948111e+00,   2.70753473e+01,   6.88770918e+00,\n",
       "         6.88770918e+00,   4.86449053e+01,   1.57369712e+01,\n",
       "         1.82260852e+01,   6.88770918e+00,   1.57369712e+01,\n",
       "         3.97956433e+01,   1.07587431e+01,   6.88770918e+00,\n",
       "         2.20971192e+01,   1.32478572e+01,   6.88770918e+00,\n",
       "         1.32478572e+01,   1.90948111e+00,   1.96080052e+01,\n",
       "         4.39859514e+00,   1.90948111e+00,   1.32478572e+01,\n",
       "         4.39859514e+00,   4.39859514e+00,   1.90948111e+00,\n",
       "         2.20971192e+01,   1.90948111e+00,   4.39859514e+00,\n",
       "         1.07587431e+01,   1.90948111e+00,   1.90948111e+00,\n",
       "         1.90948111e+00,   1.90948111e+00,   1.90948111e+00,\n",
       "         1.90948111e+00,   1.90948111e+00,   4.39859514e+00,\n",
       "         1.90948111e+00,   1.90948111e+00,   4.39859514e+00,\n",
       "         1.90948111e+00,   1.90948111e+00,   1.90948111e+00,\n",
       "         1.90948111e+00,   1.90948111e+00,   1.90948111e+00,\n",
       "         1.90948111e+00,   1.90948111e+00,   1.90948111e+00,\n",
       "         1.90948111e+00,   1.90948111e+00,   1.90948111e+00,\n",
       "         1.90948111e+00,   1.90948111e+00,   1.90948111e+00,\n",
       "         1.90948111e+00,   1.90948111e+00])"
      ]
     },
     "execution_count": 30,
     "metadata": {},
     "output_type": "execute_result"
    }
   ],
   "source": [
    "predictions_for_pm"
   ]
  },
  {
   "cell_type": "code",
   "execution_count": 31,
   "metadata": {
    "collapsed": false
   },
   "outputs": [
    {
     "data": {
      "text/plain": [
       "[<matplotlib.lines.Line2D at 0x114c6f4d0>]"
      ]
     },
     "execution_count": 31,
     "metadata": {},
     "output_type": "execute_result"
    },
    {
     "data": {
      "image/png": "[encoded data removed]",
      "text/plain": [
       "<matplotlib.figure.Figure at 0x10ae7ee10>"
      ]
     },
     "metadata": {},
     "output_type": "display_data"
    }
   ],
   "source": [
    "matplotlib.pyplot.scatter(trains2014.OUT_0600_0930 + trains2014.OUT_0930_1500, trains2014.IN_1500_1830)\n",
    "matplotlib.pyplot.plot(trains2014.OUT_0600_0930 + trains2014.OUT_0930_1500, predictions_for_pm, color='red')"
   ]
  },
  {
   "cell_type": "code",
   "execution_count": 32,
   "metadata": {
    "collapsed": false
   },
   "outputs": [
    {
     "data": {
      "text/plain": [
       "LinearRegression(copy_X=True, fit_intercept=True, n_jobs=1, normalize=False)"
      ]
     },
     "execution_count": 32,
     "metadata": {},
     "output_type": "execute_result"
    }
   ],
   "source": [
    "regressor.estimator_"
   ]
  },
  {
   "cell_type": "code",
   "execution_count": 33,
   "metadata": {
    "collapsed": false
   },
   "outputs": [
    {
     "data": {
      "text/plain": [
       "array([ 0.8849262,  0.2489114])"
      ]
     },
     "execution_count": 33,
     "metadata": {},
     "output_type": "execute_result"
    }
   ],
   "source": [
    "regressor.estimator_.coef_"
   ]
  },
  {
   "cell_type": "code",
   "execution_count": 34,
   "metadata": {
    "collapsed": false
   },
   "outputs": [
    {
     "data": {
      "text/plain": [
       "1.9094811058277514"
      ]
     },
     "execution_count": 34,
     "metadata": {},
     "output_type": "execute_result"
    }
   ],
   "source": [
    "regressor.estimator_.intercept_"
   ]
  },
  {
   "cell_type": "code",
   "execution_count": null,
   "metadata": {
    "collapsed": true
   },
   "outputs": [],
   "source": []
  }
 ],
 "metadata": {
  "kernelspec": {
   "display_name": "Python 2",
   "language": "python",
   "name": "python2"
  },
  "language_info": {
   "codemirror_mode": {
    "name": "ipython",
    "version": 2
   },
   "file_extension": ".py",
   "mimetype": "text/x-python",
   "name": "python",
   "nbconvert_exporter": "python",
   "pygments_lexer": "ipython2",
   "version": "2.7.11"
  }
 },
 "nbformat": 4,
 "nbformat_minor": 0
}
