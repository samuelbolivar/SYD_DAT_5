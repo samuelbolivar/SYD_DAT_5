{
 "cells": [
  {
   "cell_type": "code",
   "execution_count": 1,
   "metadata": {
    "collapsed": true
   },
   "outputs": [],
   "source": [
    "import sklearn.linear_model"
   ]
  },
  {
   "cell_type": "code",
   "execution_count": 2,
   "metadata": {
    "collapsed": true
   },
   "outputs": [],
   "source": [
    "%matplotlib inline\n",
    "import pandas\n",
    "import matplotlib.pyplot"
   ]
  },
  {
   "cell_type": "code",
   "execution_count": 9,
   "metadata": {
    "collapsed": false
   },
   "outputs": [],
   "source": [
    "trains = pandas.read_csv('../../data/sydtrains.csv', thousands='.', index_col='STATION')"
   ]
  },
  {
   "cell_type": "code",
   "execution_count": 10,
   "metadata": {
    "collapsed": true
   },
   "outputs": [],
   "source": [
    "trains2014 = trains[trains.YEAR == 2014]"
   ]
  },
  {
   "cell_type": "code",
   "execution_count": 12,
   "metadata": {
    "collapsed": false
   },
   "outputs": [
    {
     "data": {
      "text/plain": [
       "Index([u'LINE', u'YEAR', u'SURVEY_DATE_USED', u'WHETHER_SURVEYED',\n",
       "       u'IN_0200_0600', u'OUT_0200_0600', u'IN_0600_0930', u'OUT_0600_0930',\n",
       "       u'IN_0930_1500', u'OUT_0930_1500', u'IN_1500_1830', u'OUT_1500_1830',\n",
       "       u'IN_1830_0200', u'OUT_1830_0200', u'IN_24_HOURS', u'OUT_24_HOURS',\n",
       "       u'RANK', u'STATION_SORT_ID'],\n",
       "      dtype='object')"
      ]
     },
     "execution_count": 12,
     "metadata": {},
     "output_type": "execute_result"
    }
   ],
   "source": [
    "trains2014.columns"
   ]
  },
  {
   "cell_type": "raw",
   "metadata": {},
   "source": []
  },
  {
   "cell_type": "code",
   "execution_count": 15,
   "metadata": {
    "collapsed": false
   },
   "outputs": [],
   "source": [
    "scatter_data_in = trains2014.loc[:, [\"IN_1500_1830\" , \"IN_1830_0200\",  \"OUT_0600_0930\"]]"
   ]
  },
  {
   "cell_type": "code",
   "execution_count": 16,
   "metadata": {
    "collapsed": false
   },
   "outputs": [
    {
     "data": {
      "text/plain": [
       "array([[<matplotlib.axes._subplots.AxesSubplot object at 0x11527f790>,\n",
       "        <matplotlib.axes._subplots.AxesSubplot object at 0x1152f53d0>,\n",
       "        <matplotlib.axes._subplots.AxesSubplot object at 0x117811c50>],\n",
       "       [<matplotlib.axes._subplots.AxesSubplot object at 0x117893e10>,\n",
       "        <matplotlib.axes._subplots.AxesSubplot object at 0x1178f8b10>,\n",
       "        <matplotlib.axes._subplots.AxesSubplot object at 0x117978f90>],\n",
       "       [<matplotlib.axes._subplots.AxesSubplot object at 0x117930450>,\n",
       "        <matplotlib.axes._subplots.AxesSubplot object at 0x117ba1ad0>,\n",
       "        <matplotlib.axes._subplots.AxesSubplot object at 0x117c23d90>]], dtype=object)"
      ]
     },
     "execution_count": 16,
     "metadata": {},
     "output_type": "execute_result"
    },
    {
     "data": {
      "image/png": "[encoded data removed]",
      "text/plain": [
       "<matplotlib.figure.Figure at 0x1148048d0>"
      ]
     },
     "metadata": {},
     "output_type": "display_data"
    }
   ],
   "source": [
    "pandas.scatter_matrix(scatter_data_in)"
   ]
  },
  {
   "cell_type": "code",
   "execution_count": 18,
   "metadata": {
    "collapsed": false
   },
   "outputs": [],
   "source": [
    "people_in_the_am = trains2014.loc[:, [\"OUT_0600_0930\"]]"
   ]
  },
  {
   "cell_type": "code",
   "execution_count": 19,
   "metadata": {
    "collapsed": true
   },
   "outputs": [],
   "source": [
    "people_in_the_pm = trains2014.IN_1500_1830"
   ]
  },
  {
   "cell_type": "code",
   "execution_count": 22,
   "metadata": {
    "collapsed": true
   },
   "outputs": [],
   "source": [
    "regressor = sklearn.linear_model.RANSACRegressor()"
   ]
  },
  {
   "cell_type": "code",
   "execution_count": 33,
   "metadata": {
    "collapsed": false
   },
   "outputs": [
    {
     "data": {
      "text/plain": [
       "RANSACRegressor(base_estimator=None, is_data_valid=None, is_model_valid=None,\n",
       "        max_trials=100, min_samples=None, random_state=None,\n",
       "        residual_metric=None, residual_threshold=None, stop_n_inliers=inf,\n",
       "        stop_probability=0.99, stop_score=inf)"
      ]
     },
     "execution_count": 33,
     "metadata": {},
     "output_type": "execute_result"
    }
   ],
   "source": [
    "regressor.fit(people_in_the_am, people_in_the_pm)"
   ]
  },
  {
   "cell_type": "code",
   "execution_count": 24,
   "metadata": {
    "collapsed": true
   },
   "outputs": [],
   "source": [
    "predictions_for_pm = regressor.predict(people_in_the_am)"
   ]
  },
  {
   "cell_type": "code",
   "execution_count": 25,
   "metadata": {
    "collapsed": false
   },
   "outputs": [
    {
     "data": {
      "text/plain": [
       "array([  4.92049916e+04,   5.05381540e+04,   4.63398620e+04,\n",
       "         1.60279602e+04,   2.14541649e+04,   1.25079439e+04,\n",
       "         9.59603662e+03,   5.09369010e+03,   4.74285790e+03,\n",
       "         1.02392290e+04,   1.66711526e+04,   2.57939269e+03,\n",
       "         1.04146451e+04,   3.94763826e+03,   3.43308437e+03,\n",
       "         4.47388655e+03,   2.64955913e+03,   2.35719897e+03,\n",
       "         3.47986199e+03,   1.90111711e+03,   2.09992202e+03,\n",
       "         7.36240497e+03,   1.85433948e+03,   3.77222216e+03,\n",
       "         6.88293430e+03,   9.18786959e+02,   1.25792475e+03,\n",
       "         2.12331083e+03,   2.66125354e+03,   1.71400660e+03,\n",
       "         1.55028491e+03,   2.89514167e+03,   1.93620033e+03,\n",
       "         8.48620519e+02,   2.15839405e+03,   4.18152639e+03,\n",
       "         1.03573102e+03,   2.47414303e+03,   1.53859051e+03,\n",
       "         8.01842893e+02,   1.22284153e+03,   2.71972557e+03,\n",
       "         1.78417304e+03,   1.30470238e+03,   1.24623034e+03,\n",
       "         1.08250865e+03,   3.39800115e+03,   1.17606390e+03,\n",
       "         2.01806118e+03,   7.90148487e+02,   8.95398146e+02,\n",
       "         1.17606390e+03,   9.77258991e+02,   6.61510014e+02,\n",
       "         7.19982047e+02,   9.77258991e+02,   7.78454080e+02,\n",
       "         2.52205785e+02,   3.69149851e+02,   4.39316290e+02,\n",
       "         3.80844257e+02,   2.61447591e+03,   6.38121201e+02,\n",
       "         6.73204421e+02,   2.49753184e+03,   1.18775831e+03,\n",
       "         7.43370860e+02,   8.25231706e+02,   3.92538664e+02,\n",
       "         1.21114712e+03,   5.32871542e+02,   4.51010696e+02,\n",
       "         2.17122565e+02,   8.83703739e+02,   8.60314926e+02,\n",
       "         8.95398146e+02,   8.60314926e+02,   2.28816972e+02,\n",
       "         8.72009332e+02,   5.56260355e+02,   8.83703739e+02,\n",
       "         3.92538664e+02,   9.77258991e+02,   8.01842893e+02,\n",
       "         1.03573102e+03,   3.34066631e+02,   1.37486881e+03,\n",
       "         4.97788323e+02,   3.57455444e+02,   2.17122565e+02,\n",
       "         3.69149851e+02,   2.28816972e+02,   4.74399510e+02,\n",
       "         4.62705103e+02,   4.27621883e+02,   3.80844257e+02,\n",
       "         5.67954762e+02,   1.93733752e+02,   1.93733752e+02,\n",
       "         1.58650533e+02,   5.44565949e+02,   2.87289005e+02,\n",
       "         2.28816972e+02,   2.17122565e+02,   7.08287641e+02,\n",
       "         4.97788323e+02,   5.32871542e+02,   2.87289005e+02,\n",
       "         7.43370860e+02,   2.05428159e+02,   2.05428159e+02,\n",
       "         2.52205785e+02,   3.34066631e+02,   5.67954762e+02,\n",
       "         1.46956126e+02,   1.82039346e+02,   2.52205785e+02,\n",
       "         5.09482729e+02,   3.92538664e+02,   6.61510014e+02,\n",
       "         2.40511378e+02,   3.10677818e+02,   4.04233070e+02,\n",
       "         1.35261719e+02,   1.82039346e+02,   7.90148487e+02,\n",
       "         1.35261719e+02,   5.79649169e+02,   2.75594598e+02,\n",
       "         3.10677818e+02,   2.05428159e+02,   3.10677818e+02,\n",
       "         1.16436950e+03,   6.03037982e+02,   3.80844257e+02,\n",
       "         7.78454080e+02,   1.35261719e+02,   6.38121201e+02,\n",
       "         5.56260355e+02,   2.63900192e+02,   5.67954762e+02,\n",
       "         8.13537300e+02,   2.05428159e+02,   8.84840932e+01,\n",
       "         1.11872906e+02,   1.70344939e+02,   3.45761037e+02,\n",
       "         1.58650533e+02,   1.46956126e+02,   4.04233070e+02,\n",
       "         1.46956126e+02,   2.87289005e+02,   4.04233070e+02,\n",
       "         5.09482729e+02,   5.34008735e+01,   7.67896866e+01,\n",
       "         1.35261719e+02,   2.05428159e+02,   1.58650533e+02,\n",
       "         2.87289005e+02,   5.91343575e+02,   6.50952801e+01,\n",
       "         1.82039346e+02,   1.58650533e+02,   1.23567313e+02,\n",
       "         2.40511378e+02,   6.50952801e+01,   1.70344939e+02,\n",
       "         3.00120604e+01,   2.75594598e+02,   3.00120604e+01,\n",
       "         3.22372224e+02,   2.87289005e+02,   1.70344939e+02,\n",
       "         6.50952801e+01,   3.00120604e+01,   1.35261719e+02,\n",
       "         3.45761037e+02,   6.50952801e+01,   1.46956126e+02,\n",
       "         1.35261719e+02,   8.84840932e+01,   2.05428159e+02,\n",
       "         4.17064670e+01,   4.17064670e+01,   1.00178500e+02,\n",
       "         3.00120604e+01,   8.84840932e+01,   4.17064670e+01,\n",
       "         2.05428159e+02,   4.17064670e+01,   7.67896866e+01,\n",
       "         1.00178500e+02,   5.34008735e+01,   3.00120604e+01,\n",
       "         4.17064670e+01,   1.35261719e+02,   5.34008735e+01,\n",
       "         1.00178500e+02,   1.11872906e+02,   3.00120604e+01,\n",
       "         8.84840932e+01,   4.17064670e+01,   7.67896866e+01,\n",
       "         3.00120604e+01,   4.17064670e+01,   6.50952801e+01,\n",
       "         1.82039346e+02,   3.00120604e+01,   1.83176539e+01,\n",
       "         1.23567313e+02,   6.50952801e+01,   4.17064670e+01,\n",
       "         4.17064670e+01,   6.50952801e+01,   5.34008735e+01,\n",
       "         1.83176539e+01,   1.35261719e+02,   5.34008735e+01,\n",
       "         3.00120604e+01,   1.58650533e+02,   4.17064670e+01,\n",
       "         6.50952801e+01,   4.17064670e+01,   6.50952801e+01,\n",
       "         1.83176539e+01,   1.83176539e+01,   1.83176539e+01,\n",
       "         1.83176539e+01,   6.62324731e+00,   3.00120604e+01,\n",
       "         3.00120604e+01,   1.83176539e+01,   6.50952801e+01,\n",
       "         1.83176539e+01,   6.62324731e+00,   6.62324731e+00,\n",
       "         6.62324731e+00,   5.34008735e+01,   3.00120604e+01,\n",
       "         1.83176539e+01,   6.62324731e+00,   1.83176539e+01,\n",
       "         6.50952801e+01,   1.83176539e+01,   6.50952801e+01,\n",
       "         6.62324731e+00,   3.00120604e+01,   8.84840932e+01,\n",
       "         1.83176539e+01,   1.83176539e+01,   1.83176539e+01,\n",
       "         6.62324731e+00,   3.00120604e+01,   6.62324731e+00,\n",
       "         6.62324731e+00,   6.50952801e+01,   1.83176539e+01,\n",
       "         1.83176539e+01,   6.62324731e+00,   1.83176539e+01,\n",
       "         5.34008735e+01,   1.83176539e+01,   6.62324731e+00,\n",
       "         3.00120604e+01,   1.83176539e+01,   6.62324731e+00,\n",
       "         1.83176539e+01,   6.62324731e+00,   3.00120604e+01,\n",
       "         6.62324731e+00,   6.62324731e+00,   1.83176539e+01,\n",
       "         6.62324731e+00,   6.62324731e+00,   6.62324731e+00,\n",
       "         3.00120604e+01,   6.62324731e+00,   6.62324731e+00,\n",
       "         1.83176539e+01,   6.62324731e+00,   6.62324731e+00,\n",
       "         6.62324731e+00,   6.62324731e+00,   6.62324731e+00,\n",
       "         6.62324731e+00,   6.62324731e+00,   6.62324731e+00,\n",
       "         6.62324731e+00,   6.62324731e+00,   6.62324731e+00,\n",
       "         6.62324731e+00,   6.62324731e+00,   6.62324731e+00,\n",
       "         6.62324731e+00,   6.62324731e+00,   6.62324731e+00,\n",
       "         6.62324731e+00,   6.62324731e+00,   6.62324731e+00,\n",
       "         6.62324731e+00,   6.62324731e+00,   6.62324731e+00,\n",
       "         6.62324731e+00,   6.62324731e+00,   6.62324731e+00,\n",
       "         6.62324731e+00,   6.62324731e+00])"
      ]
     },
     "execution_count": 25,
     "metadata": {},
     "output_type": "execute_result"
    }
   ],
   "source": [
    "predictions_for_pm"
   ]
  },
  {
   "cell_type": "code",
   "execution_count": 27,
   "metadata": {
    "collapsed": false
   },
   "outputs": [
    {
     "data": {
      "text/plain": [
       "[<matplotlib.lines.Line2D at 0x1184c8250>]"
      ]
     },
     "execution_count": 27,
     "metadata": {},
     "output_type": "execute_result"
    },
    {
     "data": {
      "image/png": "[encoded data removed]",
      "text/plain": [
       "<matplotlib.figure.Figure at 0x1184d4a50>"
      ]
     },
     "metadata": {},
     "output_type": "display_data"
    }
   ],
   "source": [
    "matplotlib.pyplot.scatter(trains2014.OUT_0600_0930, trains2014.IN_1500_1830)\n",
    "matplotlib.pyplot.plot(trains2014.OUT_0600_0930, predictions_for_pm, color='red')"
   ]
  },
  {
   "cell_type": "code",
   "execution_count": 28,
   "metadata": {
    "collapsed": false
   },
   "outputs": [
    {
     "data": {
      "text/plain": [
       "LinearRegression(copy_X=True, fit_intercept=True, n_jobs=1, normalize=False)"
      ]
     },
     "execution_count": 28,
     "metadata": {},
     "output_type": "execute_result"
    }
   ],
   "source": [
    "regressor.estimator_"
   ]
  },
  {
   "cell_type": "code",
   "execution_count": 34,
   "metadata": {
    "collapsed": false
   },
   "outputs": [
    {
     "data": {
      "text/plain": [
       "array([ 1.16120902])"
      ]
     },
     "execution_count": 34,
     "metadata": {},
     "output_type": "execute_result"
    }
   ],
   "source": [
    "regressor.estimator_.coef_"
   ]
  },
  {
   "cell_type": "code",
   "execution_count": 35,
   "metadata": {
    "collapsed": false
   },
   "outputs": [
    {
     "data": {
      "text/plain": [
       "4.4532814109882679"
      ]
     },
     "execution_count": 35,
     "metadata": {},
     "output_type": "execute_result"
    }
   ],
   "source": [
    "regressor.estimator_.intercept_"
   ]
  },
  {
   "cell_type": "code",
   "execution_count": null,
   "metadata": {
    "collapsed": true
   },
   "outputs": [],
   "source": []
  }
 ],
 "metadata": {
  "kernelspec": {
   "display_name": "Python 2",
   "language": "python",
   "name": "python2"
  },
  "language_info": {
   "codemirror_mode": {
    "name": "ipython",
    "version": 2
   },
   "file_extension": ".py",
   "mimetype": "text/x-python",
   "name": "python",
   "nbconvert_exporter": "python",
   "pygments_lexer": "ipython2",
   "version": "2.7.11"
  }
 },
 "nbformat": 4,
 "nbformat_minor": 0
}
