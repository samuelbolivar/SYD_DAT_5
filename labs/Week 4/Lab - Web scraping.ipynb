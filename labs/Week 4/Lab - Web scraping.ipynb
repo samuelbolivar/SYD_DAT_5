{
 "cells": [
  {
   "cell_type": "markdown",
   "metadata": {},
   "source": [
    "# Data Acquisition Lab\n",
    "\n",
    "This lab is divided into short sections, one for each section of theory."
   ]
  },
  {
   "cell_type": "markdown",
   "metadata": {},
   "source": [
    "## Accessing Unprotected Web pages"
   ]
  },
  {
   "cell_type": "code",
   "execution_count": 1,
   "metadata": {
    "collapsed": true
   },
   "outputs": [],
   "source": [
    "# import the Python requests library so that you can use it in your program\n",
    "import requests"
   ]
  },
  {
   "cell_type": "code",
   "execution_count": 2,
   "metadata": {
    "collapsed": false
   },
   "outputs": [],
   "source": [
    "# Go to the Australian Bureau of Meteorology website and work out which page corresponds to the\n",
    "# Sydney weather forecast. Store that in a variable here\n",
    "sydney = 'http://www.bom.gov.au/nsw/forecasts/sydney.shtml'"
   ]
  },
  {
   "cell_type": "code",
   "execution_count": 3,
   "metadata": {
    "collapsed": true
   },
   "outputs": [],
   "source": [
    "# Use the requests.get() method to fetch that page\n",
    "r = requests.get(sydney)"
   ]
  },
  {
   "cell_type": "code",
   "execution_count": 4,
   "metadata": {
    "collapsed": false
   },
   "outputs": [
    {
     "data": {
      "text/plain": [
       "200"
      ]
     },
     "execution_count": 4,
     "metadata": {},
     "output_type": "execute_result"
    }
   ],
   "source": [
    "# Did that succeed? What was the .status_code?\n",
    "r.status_code"
   ]
  },
  {
   "cell_type": "code",
   "execution_count": 7,
   "metadata": {
    "collapsed": false
   },
   "outputs": [],
   "source": [
    "# What was the .text or .content of that page? Save it in a variable, because we will be using it\n",
    "# a little later\n",
    "sydney_text = r.text"
   ]
  },
  {
   "cell_type": "markdown",
   "metadata": {},
   "source": [
    "## Accessing forms\n",
    "\n",
    "The pandas library already has a module for getting information from the Yahoo Finance pages, \n",
    "so you are unlikely to use the following code in any normal environment. But it's an example of\n",
    "a simple web API"
   ]
  },
  {
   "cell_type": "code",
   "execution_count": 8,
   "metadata": {
    "collapsed": false
   },
   "outputs": [],
   "source": [
    "# There is a stock price lookup form on https://au.finance.yahoo.com (it says Enter Symbol)\n",
    "# Inspect that element, and identify:\n",
    "# - The <INPUT> tag with the name \"s\"\n",
    "# - The <INPUT> tag with the name \"ql\" (which has a type of \"hidden\")\n",
    "# - The <FORM> tag surrounding them with the action of \"/q\" and the method of GET\n",
    "#\n",
    "# Create a dictionary with appropriate keys to provide values for the input tags.\n",
    "# Create a variable with the full URL to submit to\n",
    "\n",
    "params = {'s': 'IBM',\n",
    "         'ql': '1'}\n",
    "yahoo_finance = 'https://au.finance.yahoo.com/q?'"
   ]
  },
  {
   "cell_type": "code",
   "execution_count": 9,
   "metadata": {
    "collapsed": false
   },
   "outputs": [],
   "source": [
    "# Use requests.get to retrieve that page\n",
    "ibm_price = requests.get(yahoo_finance, data=params)\n",
    "open('yahoofinance.html','wb').write(ibm_price.content)"
   ]
  },
  {
   "cell_type": "markdown",
   "metadata": {},
   "source": [
    "## Secured pages\n",
    "\n",
    "The username for files under http://www.ifost.org.au/ga/protected is \"ga\" and the password is \"s3cr3t\"\n",
    "\n",
    "In this section we will fetch a file from a website that requires authentication."
   ]
  },
  {
   "cell_type": "code",
   "execution_count": 10,
   "metadata": {
    "collapsed": false
   },
   "outputs": [
    {
     "data": {
      "text/plain": [
       "<Response [401]>"
      ]
     },
     "execution_count": 10,
     "metadata": {},
     "output_type": "execute_result"
    }
   ],
   "source": [
    "# What happens if you use the requests library to fetch http://www.ifost.org.au/ga/protected/data.json \n",
    "# without supplying a password? What is the .status_code?\n",
    "\n",
    "ifost_url = 'http://kemek.ifost.org.au/ga/protected/data.json'\n",
    "ifost_page = requests.get(ifost_url)\n",
    "ifost_page"
   ]
  },
  {
   "cell_type": "code",
   "execution_count": 11,
   "metadata": {
    "collapsed": false
   },
   "outputs": [
    {
     "data": {
      "text/plain": [
       "'{\\n \"result\": \"success\",\\n \"message\": \"you have accessed data from a protected page\"\\n}\\n'"
      ]
     },
     "execution_count": 11,
     "metadata": {},
     "output_type": "execute_result"
    }
   ],
   "source": [
    "# Try again, but this time supplying a username and password\n",
    "\n",
    "from requests.auth import HTTPDigestAuth\n",
    "ifost_content = requests.get(ifost_url, auth=('ga','s3cr3t')).content\n",
    "ifost_content"
   ]
  },
  {
   "cell_type": "markdown",
   "metadata": {},
   "source": [
    "## Parsing HTML\n",
    "\n",
    "In this section we will find the prediction for tomorrow's weather."
   ]
  },
  {
   "cell_type": "code",
   "execution_count": 12,
   "metadata": {
    "collapsed": true
   },
   "outputs": [],
   "source": [
    "# import BeautifulSoup library (version 4)\n",
    "import bs4"
   ]
  },
  {
   "cell_type": "code",
   "execution_count": 13,
   "metadata": {
    "collapsed": false
   },
   "outputs": [],
   "source": [
    "# Create a variable called \"soup\" with the result of parsing the Bureau of Meteorology prediction for\n",
    "# Sydney that you captured at the start of this notebook.\n",
    "sydney_content = requests.get(sydney)\n",
    "soup = bs4.BeautifulSoup(sydney_content.content, 'lxml')"
   ]
  },
  {
   "cell_type": "code",
   "execution_count": 14,
   "metadata": {
    "collapsed": false
   },
   "outputs": [
    {
     "data": {
      "text/plain": [
       "<h2>Tuesday 5 July</h2>"
      ]
     },
     "execution_count": 14,
     "metadata": {},
     "output_type": "execute_result"
    }
   ],
   "source": [
    "def has_the_word_tuesday(x):\n",
    "    return 'Tuesday' in x\n",
    "\n",
    "# Find the first element in \"soup\" which has the word Tuesday in it\n",
    "# You might find the function \"has_the_word_tuesday\" helpful\n",
    "\n",
    "first_tuesday = soup.find(string=has_the_word_tuesday)\n",
    "\n",
    "element = first_tuesday.parent\n",
    "element"
   ]
  },
  {
   "cell_type": "code",
   "execution_count": 15,
   "metadata": {
    "collapsed": false
   },
   "outputs": [
    {
     "data": {
      "text/plain": [
       "<bound method Tag.prettify of <div class=\"day\">\\n<h2>Tuesday 5 July</h2>\\n<div class=\"forecast\">\\n<dl>\\n<dt>Summary</dt>\\n<dd class=\"image\">\\n<img alt=\"\" height=\"42\" src=\"/images/symbols/large/rain.png\" width=\"45\"/>\\n</dd>\\n<dd>Min <em class=\"min\">10</em></dd>\\n<dd>Max <em class=\"max\">16</em></dd>\\n<dd class=\"summary\">Rain.</dd>\\n<dd class=\"rain\">Possible rainfall: <em class=\"rain\">3 to 8 mm</em></dd>\\n<dd class=\"rain\">Chance of any rain: <em class=\"pop\">80%\\n\\t\\t\\t\\t\\t<img alt=\"\" height=\"10\" src=\"/images/ui/weather/rain_80.gif\" width=\"69\"/></em></dd>\\n</dl>\\n<h3>Sydney area</h3>\\n<p>Cloudy. High (80%) chance of rain, most likely in the morning and afternoon. Winds north to northwesterly and light increasing to 15 to 25 km/h in the middle of the day then turning westerly 25 to 35 km/h in the afternoon.</p>\\n</div>\\n</div>>"
      ]
     },
     "execution_count": 15,
     "metadata": {},
     "output_type": "execute_result"
    }
   ],
   "source": [
    "# The weather prediction is obviously going to be in a <DIV> that includes it\n",
    "# Display the parent of the element you found in the previous cell. You might\n",
    "# find the .prettify() method makes it easier to display\n",
    "element.parent.prettify"
   ]
  },
  {
   "cell_type": "code",
   "execution_count": 17,
   "metadata": {
    "collapsed": false
   },
   "outputs": [
    {
     "data": {
      "text/plain": [
       "<dd class=\"summary\">Rain.</dd>"
      ]
     },
     "execution_count": 17,
     "metadata": {},
     "output_type": "execute_result"
    }
   ],
   "source": [
    "# Can you find a <DD> element with a CSS class \"summary\"? (Use the parameter class_ in BeautifulSoup)\n",
    "\n",
    "sections = element.parent.find('dd', class_='summary')\n",
    "sections"
   ]
  },
  {
   "cell_type": "code",
   "execution_count": 18,
   "metadata": {
    "collapsed": false
   },
   "outputs": [
    {
     "data": {
      "text/plain": [
       "u'Rain.'"
      ]
     },
     "execution_count": 18,
     "metadata": {},
     "output_type": "execute_result"
    }
   ],
   "source": [
    "# Display the \"string\" attribute of this summary element. Do you need to bring an umbrella?\n",
    "sections.string"
   ]
  },
  {
   "cell_type": "markdown",
   "metadata": {},
   "source": [
    "## JSON APIs\n",
    "\n",
    "Many websites display their information in JSON format. In this section we will interact\n",
    "with the Pokemon database http://pokeapi.co/"
   ]
  },
  {
   "cell_type": "code",
   "execution_count": 19,
   "metadata": {
    "collapsed": true
   },
   "outputs": [],
   "source": [
    "# Look up their documentation. What is the base URL for querying a Pokemon? What URL\n",
    "# would you use to look up the Pokemon called \"Groudon\"? Store it in a variable\n",
    "groudon_url = 'http://pokeapi.co/api/v2/pokemon/383'"
   ]
  },
  {
   "cell_type": "code",
   "execution_count": 20,
   "metadata": {
    "collapsed": false
   },
   "outputs": [],
   "source": [
    "# Use the requests library to fetch the Groudon data\n",
    "groudon_data = requests.get(groudon_url)"
   ]
  },
  {
   "cell_type": "code",
   "execution_count": 21,
   "metadata": {
    "collapsed": false
   },
   "outputs": [
    {
     "data": {
      "text/plain": [
       "<Response [200]>"
      ]
     },
     "execution_count": 21,
     "metadata": {},
     "output_type": "execute_result"
    }
   ],
   "source": [
    "# Check the status code to make sure that it worked\n",
    "groudon_data"
   ]
  },
  {
   "cell_type": "code",
   "execution_count": 22,
   "metadata": {
    "collapsed": false
   },
   "outputs": [],
   "source": [
    "# Is the content of the response in JSON format? Use the requests library function\n",
    "# to decode it from JSON format into a Python dictionary\n",
    "groudon_dic = groudon_data.json()"
   ]
  },
  {
   "cell_type": "code",
   "execution_count": 23,
   "metadata": {
    "collapsed": false
   },
   "outputs": [
    {
     "data": {
      "text/plain": [
       "[u'is_default',\n",
       " u'abilities',\n",
       " u'stats',\n",
       " u'name',\n",
       " u'weight',\n",
       " u'held_items',\n",
       " u'location_area_encounters',\n",
       " u'height',\n",
       " u'forms',\n",
       " u'base_experience',\n",
       " u'id',\n",
       " u'game_indices',\n",
       " u'species',\n",
       " u'moves',\n",
       " u'order',\n",
       " u'sprites',\n",
       " u'types']"
      ]
     },
     "execution_count": 23,
     "metadata": {},
     "output_type": "execute_result"
    }
   ],
   "source": [
    "# What are the keys of this python dictionary?\n",
    "groudon_dic.keys()"
   ]
  },
  {
   "cell_type": "code",
   "execution_count": 24,
   "metadata": {
    "collapsed": false
   },
   "outputs": [
    {
     "name": "stdout",
     "output_type": "stream",
     "text": [
      "9500\n"
     ]
    }
   ],
   "source": [
    "# Is \"weight\" listed there? If so, then the value in it should be a number\n",
    "# If you play Pokemon, does this number look reasonable?\n",
    "print groudon_dic['weight']"
   ]
  }
 ],
 "metadata": {
  "kernelspec": {
   "display_name": "Python 2",
   "language": "python",
   "name": "python2"
  },
  "language_info": {
   "codemirror_mode": {
    "name": "ipython",
    "version": 2
   },
   "file_extension": ".py",
   "mimetype": "text/x-python",
   "name": "python",
   "nbconvert_exporter": "python",
   "pygments_lexer": "ipython2",
   "version": "2.7.11"
  }
 },
 "nbformat": 4,
 "nbformat_minor": 0
}
