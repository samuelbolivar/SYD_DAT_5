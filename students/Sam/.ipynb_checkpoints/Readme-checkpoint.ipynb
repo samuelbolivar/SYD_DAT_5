{
 "cells": [
  {
   "cell_type": "markdown",
   "metadata": {},
   "source": [
    "# SYD DAT 5 Lab 2 - Visualisation and Regression\n",
    "\n",
    "Make sure you have completed any labs that you might have missed or didn't finish.\n",
    "#### I have completed missed labs\n",
    "\n",
    "##Homework - Due July 8th, 2016\n",
    "\n",
    "\n",
    "* For the following use the github repository you made for your project. \n",
    "* Load some data you have gathered for your project into Python.\n",
    "* Identify some numeric and categorical features in your data. Write this up in a file called README.md \n",
    "* Run some summary statistics over the numeric data.\n",
    "* Are there any interesting features of the data that jump out?\n",
    "* Generate some data visualisations that would be useful for you to explore your data set, particularly the numeric data right now.\n",
    "* If you can find any good candidates for a regression, try some regressors out.\n",
    "* When you are ready to submit, create a branch in your repository.\n",
    "* Send a message on Slack to Greg and Adrian to remind us of your repository name. Also tell us the name of the branch, and the filename of the jupyter notebook where you've done all this work\n",
    "* (You can keep working on your project after this; Adrian and I will be looking at a static branch)"
   ]
  },
  {
   "cell_type": "code",
   "execution_count": null,
   "metadata": {
    "collapsed": true
   },
   "outputs": [],
   "source": []
  }
 ],
 "metadata": {
  "kernelspec": {
   "display_name": "Python 2",
   "language": "python",
   "name": "python2"
  },
  "language_info": {
   "codemirror_mode": {
    "name": "ipython",
    "version": 2
   },
   "file_extension": ".py",
   "mimetype": "text/x-python",
   "name": "python",
   "nbconvert_exporter": "python",
   "pygments_lexer": "ipython2",
   "version": "2.7.12"
  }
 },
 "nbformat": 4,
 "nbformat_minor": 0
}
